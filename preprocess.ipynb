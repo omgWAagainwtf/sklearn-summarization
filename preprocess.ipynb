{
 "cells": [
  {
   "cell_type": "code",
   "execution_count": 8,
   "metadata": {},
   "outputs": [],
   "source": [
    "%config IPCompleter.greedy=True\n",
    "import numpy as np\n",
    "import pandas as pd\n",
    "from pandas import Series, DataFrame"
   ]
  },
  {
   "cell_type": "markdown",
   "metadata": {},
   "source": [
    "numpy可想成陣列或是矩陣，簡單來說就是個高速list，速度跟c有的比\n",
    "1. 提供一些方便資料篩選的方法\n",
    "2. 提供向量及矩陣運算\n",
    "3. 向上支援許多套件\n",
    "4. 輕鬆轉換成python list\n",
    "把np_sum ls np_merge分別單一打開後可以看到資料格式"
   ]
  },
  {
   "cell_type": "code",
   "execution_count": 26,
   "metadata": {},
   "outputs": [
    {
     "data": {
      "text/plain": [
       "[5, 7, 9]"
      ]
     },
     "execution_count": 26,
     "metadata": {},
     "output_type": "execute_result"
    }
   ],
   "source": [
    "# 玩個numpy\n",
    "l = [1,2,3]\n",
    "r = [4,5,6]\n",
    "np_arr_left = np.array(l)\n",
    "np_arr_right = np.array(r)\n",
    "np_sum = np_arr_left + np_arr_right\n",
    "# np_sum # 向量相加\n",
    "# 還原到list\n",
    "ls = np_sum.tolist()\n",
    "l = l + r\n",
    "np_merge = np.array(l)\n",
    "#ls\n",
    "#np_merge\n"
   ]
  },
  {
   "cell_type": "markdown",
   "metadata": {},
   "source": [
    "Series 可以\n",
    "1. 轉換list、np.array\n",
    "2. 可以自行定義index名稱\n",
    "3. 取值用.values　取索引用.index\n",
    "4. 陣列取值比較像是dict，可透過['index名稱'] 或是　.index名稱"
   ]
  },
  {
   "cell_type": "code",
   "execution_count": 38,
   "metadata": {},
   "outputs": [
    {
     "data": {
      "text/plain": [
       "6"
      ]
     },
     "execution_count": 38,
     "metadata": {},
     "output_type": "execute_result"
    }
   ],
   "source": [
    "# 隨機產生序向資料，也就是陣列\n",
    "# pandas的結構是由numpy所支援\n",
    "series_list = Series([1,2,3])\n",
    "series_numpy = Series(np_sum)\n",
    "# series_numpy.values\n",
    "# series_numpy.index\n",
    "series_obj = Series(np.arange(7), index=['r1', 'r2','r3','r4','r5', 'r6', 'r7'])\n",
    "# series_list.values\n",
    "# series_obj\n",
    "# series_obj['r7'] or series_obj.r7"
   ]
  },
  {
   "cell_type": "markdown",
   "metadata": {},
   "source": [
    "二維陣列怎麼辦？\n",
    "1. numpy zeros初始化陣列 可以試試看把註解拿掉\n",
    "2. pandas dataframe"
   ]
  },
  {
   "cell_type": "code",
   "execution_count": 61,
   "metadata": {},
   "outputs": [
    {
     "name": "stdout",
     "output_type": "stream",
     "text": [
      "1 2 3 4 \n",
      "5 6 7 8 \n"
     ]
    },
    {
     "data": {
      "text/html": [
       "<div>\n",
       "<style scoped>\n",
       "    .dataframe tbody tr th:only-of-type {\n",
       "        vertical-align: middle;\n",
       "    }\n",
       "\n",
       "    .dataframe tbody tr th {\n",
       "        vertical-align: top;\n",
       "    }\n",
       "\n",
       "    .dataframe thead th {\n",
       "        text-align: right;\n",
       "    }\n",
       "</style>\n",
       "<table border=\"1\" class=\"dataframe\">\n",
       "  <thead>\n",
       "    <tr style=\"text-align: right;\">\n",
       "      <th></th>\n",
       "      <th>0</th>\n",
       "      <th>1</th>\n",
       "      <th>2</th>\n",
       "      <th>3</th>\n",
       "    </tr>\n",
       "  </thead>\n",
       "  <tbody>\n",
       "    <tr>\n",
       "      <th>0</th>\n",
       "      <td>1</td>\n",
       "      <td>2</td>\n",
       "      <td>3</td>\n",
       "      <td>4</td>\n",
       "    </tr>\n",
       "    <tr>\n",
       "      <th>1</th>\n",
       "      <td>5</td>\n",
       "      <td>6</td>\n",
       "      <td>7</td>\n",
       "      <td>8</td>\n",
       "    </tr>\n",
       "  </tbody>\n",
       "</table>\n",
       "</div>"
      ],
      "text/plain": [
       "   0  1  2  3\n",
       "0  1  2  3  4\n",
       "1  5  6  7  8"
      ]
     },
     "execution_count": 61,
     "metadata": {},
     "output_type": "execute_result"
    }
   ],
   "source": [
    "z = np.array([[1,2,3,4],[5,6,7,8]]) #tricky?\n",
    "# z = np.zeros((2,6))\n",
    "# z\n",
    "# traverse z 2d array like in c\n",
    "rows = z.shape[0]\n",
    "cols = z.shape[1]\n",
    "for i in range(0,rows):\n",
    "    for j in range(0,cols):\n",
    "        print(z[i][j], end=' ')\n",
    "    print('')\n",
    "df = DataFrame(z)\n",
    "df\n"
   ]
  },
  {
   "cell_type": "markdown",
   "metadata": {},
   "source": [
    "numpy常見操作\n",
    "1. slicing: np_array['index_from':'idnex_to']\n",
    "2. filtering: np_array[條件]"
   ]
  },
  {
   "cell_type": "code",
   "execution_count": 101,
   "metadata": {},
   "outputs": [
    {
     "data": {
      "text/plain": [
       "array([3, 4, 5, 6, 7, 8])"
      ]
     },
     "execution_count": 101,
     "metadata": {},
     "output_type": "execute_result"
    }
   ],
   "source": [
    "z[1:,1:3]\n",
    "z[z>2]"
   ]
  },
  {
   "cell_type": "markdown",
   "metadata": {},
   "source": [
    "dataframe (a.k.a. 資料庫的table) 常見操作\n",
    "1. select data column\n",
    "2. rename index\n",
    "3. filtering: df.loc(條件)"
   ]
  },
  {
   "cell_type": "code",
   "execution_count": 127,
   "metadata": {},
   "outputs": [
    {
     "data": {
      "text/html": [
       "<div>\n",
       "<style scoped>\n",
       "    .dataframe tbody tr th:only-of-type {\n",
       "        vertical-align: middle;\n",
       "    }\n",
       "\n",
       "    .dataframe tbody tr th {\n",
       "        vertical-align: top;\n",
       "    }\n",
       "\n",
       "    .dataframe thead th {\n",
       "        text-align: right;\n",
       "    }\n",
       "</style>\n",
       "<table border=\"1\" class=\"dataframe\">\n",
       "  <thead>\n",
       "    <tr style=\"text-align: right;\">\n",
       "      <th></th>\n",
       "      <th>1st</th>\n",
       "      <th>2nd</th>\n",
       "      <th>3rd</th>\n",
       "      <th>4th</th>\n",
       "    </tr>\n",
       "  </thead>\n",
       "  <tbody>\n",
       "    <tr>\n",
       "      <th>1</th>\n",
       "      <td>5</td>\n",
       "      <td>6</td>\n",
       "      <td>7</td>\n",
       "      <td>8</td>\n",
       "    </tr>\n",
       "  </tbody>\n",
       "</table>\n",
       "</div>"
      ],
      "text/plain": [
       "   1st  2nd  3rd  4th\n",
       "1    5    6    7    8"
      ]
     },
     "execution_count": 127,
     "metadata": {},
     "output_type": "execute_result"
    }
   ],
   "source": [
    "df > 2\n",
    "df.columns = ['a','b','c','d']\n",
    "df = df.rename(columns={'a':'1st','b':'2nd','c':'3rd','d':'4th'})\n",
    "df['1st']\n",
    "#df[df > 2]\n",
    "df.loc[df['3rd']>4]"
   ]
  },
  {
   "cell_type": "code",
   "execution_count": null,
   "metadata": {},
   "outputs": [],
   "source": []
  }
 ],
 "metadata": {
  "kernelspec": {
   "display_name": "Python 3",
   "language": "python",
   "name": "python3"
  },
  "language_info": {
   "codemirror_mode": {
    "name": "ipython",
    "version": 3
   },
   "file_extension": ".py",
   "mimetype": "text/x-python",
   "name": "python",
   "nbconvert_exporter": "python",
   "pygments_lexer": "ipython3",
   "version": "3.5.2"
  }
 },
 "nbformat": 4,
 "nbformat_minor": 2
}
